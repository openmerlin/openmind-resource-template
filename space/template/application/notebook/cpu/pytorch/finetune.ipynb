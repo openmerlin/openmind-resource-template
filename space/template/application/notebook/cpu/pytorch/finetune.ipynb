{
 "cells": [
  {
   "cell_type": "markdown",
   "metadata": {},
   "source": [
    "## 使用openMind Library Trainer微调PyTorch预训练模型 ​\n",
    "openMind Library提供了一个对Transformers Trainer类的封装，您可以像使用Transformers Trainer类一样来使用openMind Library Trainer类，您无需手动编写自己的训练循环步骤就可以开始训练模型。Trainer API支持各种训练选项和功能，如日志记录、梯度累积和上传模型等。"
   ]
  },
  {
   "cell_type": "markdown",
   "metadata": {},
   "source": [
    "### 准备数据集 \n",
    "\n",
    "在微调预训练模型之前，请下载数据集并准备进行训练。 当前数据集的操作依然使用Hugging Face所提供的datasets库。\n",
    "\n",
    "从加载Yelp Reviews数据集开始："
   ]
  },
  {
   "cell_type": "code",
   "execution_count": null,
   "metadata": {},
   "outputs": [],
   "source": [
    "from datasets import load_dataset\n",
    "\n",
    "dataset = load_dataset(\"yelp_review_full\")\n",
    "print(dataset[\"train\"][100])\n",
    "\n",
    "'''\n",
    "输出：\n",
    "{\n",
    "   'label': 0,\n",
    "   'text': 'My expectations for McDonalds are t rarely high. But for one to still fail so spectacularly...that '\n",
    "          'takes something special!\\\\nThe cashier took my friends\\'s order, then promptly ignored me. I had to '\n",
    "          'force myself in front of a cashier who opened his register to wait on the person BEHIND me. I waited '\n",
    "          'over five minutes for a gigantic order that included precisely one kid\\'s meal. After watching two '\n",
    "          'people who ordered after me be handed their food, I asked where mine was. The manager started yelling '\n",
    "          'at the cashiers for \\\\\"serving off their orders\\\\\" when they didn\\'t have their food. But neither '\n",
    "          'cashier was anywhere near those controls, and the manager was the one serving food to customers and '\n",
    "          'clearing the boards.\\\\nThe manager was rude when giving me my order. She didn\\'t make sure that I had '\n",
    "          'everything ON MY RECEIPT, and never even had the decency to apologize that I felt I was getting poor '\n",
    "          'service.\\\\nI\\'ve eaten at various McDonalds restaurants for over 30 years. I\\'ve worked at more than '\n",
    "          'one location. I expect bad days, bad moods, and the occasional mistake. But I have yet to have a decent '\n",
    "          'experience at this store. It will remain a place I avoid unless someone in my party needs to avoid '\n",
    "          'illness from low blood sugar. Perhaps I should go back to the racially biased service of Steak n Shake '\n",
    "          'instead!'}\n",
    "'''\n"
   ]
  },
  {
   "cell_type": "markdown",
   "metadata": {},
   "source": [
    "需要使用tokenizer来处理文本，包括填充和截断操作以处理可变的序列长度"
   ]
  },
  {
   "cell_type": "code",
   "execution_count": null,
   "metadata": {},
   "outputs": [],
   "source": [
    "from openmind import AutoTokenizer\n",
    "\n",
    "tokenizer = AutoTokenizer.from_pretrained(\"openmind/bert_base_cased_pt\")\n",
    "\n",
    "def tokenize_function(examples):\n",
    "    return tokenizer(examples[\"text\"], padding=\"max_length\", truncation=True)\n",
    "\n",
    "tokenized_datasets = dataset.map(tokenize_function, batched=True)\n"
   ]
  },
  {
   "cell_type": "markdown",
   "metadata": {},
   "source": [
    "### 模型初始化 \n",
    "\n",
    "首先加载模型并指定期望的标签数量，Yelp Review数据集有五个标签。"
   ]
  },
  {
   "cell_type": "code",
   "execution_count": null,
   "metadata": {},
   "outputs": [],
   "source": [
    "from openmind import AutoModelForSequenceClassification\n",
    "\n",
    "model = AutoModelForSequenceClassification.from_pretrained(\"openmind/bert_base_cased_pt\", num_labels=5)\n"
   ]
  },
  {
   "cell_type": "markdown",
   "metadata": {},
   "source": [
    "### 参数初始化\n",
    "\n",
    "创建一个TrainingArguments类，其中包含可以调整的所有超参数以及不同的训练选项。可以查看Trainer模块接口文档，尝试并找到最优的设置。"
   ]
  },
  {
   "cell_type": "code",
   "execution_count": null,
   "metadata": {},
   "outputs": [],
   "source": [
    "from openmind import TrainingArguments\n",
    "\n",
    "# 指定保存训练检查点的路径\n",
    "training_args = TrainingArguments(output_dir=\"test_trainer\")\n"
   ]
  },
  {
   "cell_type": "markdown",
   "metadata": {},
   "source": [
    "### 配置评估参数 \n",
    "\n",
    "Trainer在训练过程中不会自动评估模型性能，需要向Trainer传递一个函数来计算和展示指标。 当前评估操作依然使用Hugging Face所提供的Evaluate库。Evaluate库提供了一个简单的accuracy函数，可以使用evaluate.load函数加载。"
   ]
  },
  {
   "cell_type": "code",
   "execution_count": null,
   "metadata": {},
   "outputs": [],
   "source": [
    "import evaluate\n",
    "\n",
    "metric = evaluate.load(\"accuracy\")\n"
   ]
  },
  {
   "cell_type": "markdown",
   "metadata": {},
   "source": [
    "在metric上调用evaluate.compute来计算模型预测的准确性：将预测结果传递给compute方法之前，需要将预测结果转换为预测标签，最终计算出准确率accuracy。"
   ]
  },
  {
   "cell_type": "code",
   "execution_count": null,
   "metadata": {},
   "outputs": [],
   "source": [
    "import numpy as np\n",
    "\n",
    "def compute_metrics(eval_pred):\n",
    "    logits, labels = eval_pred\n",
    "    predictions = np.argmax(logits, axis=-1)\n",
    "    return metric.compute(predictions=predictions, references=labels)\n"
   ]
  },
  {
   "cell_type": "markdown",
   "metadata": {},
   "source": [
    "要在微调过程中监视评估指标，需指定训练参数evaluation_strategy设置为\"epoch\"，以便在每个epoch结束时展示当前的评估指标。"
   ]
  },
  {
   "cell_type": "code",
   "execution_count": null,
   "metadata": {},
   "outputs": [],
   "source": [
    "from openmind import TrainingArguments\n",
    "\n",
    "training_args = TrainingArguments(output_dir=\"test_trainer\", evaluation_strategy=\"epoch\")\n"
   ]
  },
  {
   "cell_type": "markdown",
   "metadata": {},
   "source": [
    "### 创建训练器并启动训练 \n",
    "\n",
    "创建一个Trainer对象，将上述配置过的模型、训练超参数、训练/测试数据集以及评估函数传递给该对象。"
   ]
  },
  {
   "cell_type": "code",
   "execution_count": null,
   "metadata": {},
   "outputs": [],
   "source": [
    "from openmind import Trainer\n",
    "\n",
    "trainer = Trainer(\n",
    "    model = model,\n",
    "    args = training_args,\n",
    "    train_dataset = small_train_dataset,\n",
    "    eval_dataset = small_eval_dataset,\n",
    "    compute_metrics = compute_metrics,\n",
    ")\n"
   ]
  },
  {
   "cell_type": "markdown",
   "metadata": {},
   "source": [
    "调用openmind.Trainer.train以微调模型。"
   ]
  },
  {
   "cell_type": "code",
   "execution_count": null,
   "metadata": {},
   "outputs": [],
   "source": [
    "trainer.train()\n"
   ]
  }
 ],
 "metadata": {
  "kernelspec": {
   "display_name": "openMind",
   "language": "python",
   "name": "python3"
  },
  "language_info": {
   "name": "python",
   "version": "3.9.19"
  }
 },
 "nbformat": 4,
 "nbformat_minor": 2
}
